{
 "cells": [
  {
   "cell_type": "code",
   "execution_count": 1,
   "id": "44244f35",
   "metadata": {},
   "outputs": [],
   "source": [
    "import numpy as np\n",
    "import pandas as pd"
   ]
  },
  {
   "cell_type": "code",
   "execution_count": 2,
   "id": "561309d5",
   "metadata": {},
   "outputs": [],
   "source": [
    "from tensorflow.keras.models import Sequential\n",
    "from tensorflow.keras.layers import Dense\n",
    "from tensorflow.keras.layers import Convolution2D\n",
    "from tensorflow.keras.layers import MaxPooling2D\n",
    "from tensorflow.keras.layers import Flatten"
   ]
  },
  {
   "cell_type": "code",
   "execution_count": 3,
   "id": "a75cee60",
   "metadata": {},
   "outputs": [],
   "source": [
    "from tensorflow.keras.preprocessing.image import ImageDataGenerator"
   ]
  },
  {
   "cell_type": "code",
   "execution_count": 4,
   "id": "9afb3813",
   "metadata": {},
   "outputs": [],
   "source": [
    "train_data=ImageDataGenerator(rescale=1./255,shear_range=0.2,zoom_range=0.2,horizontal_flip=True,vertical_flip=True)\n",
    "test_data=ImageDataGenerator(rescale=1./255)"
   ]
  },
  {
   "cell_type": "code",
   "execution_count": 5,
   "id": "5277de2f",
   "metadata": {},
   "outputs": [],
   "source": [
    "import zipfile as zf\n",
    "\n",
    "files = zf.ZipFile(r\"C:\\project\\Flowers-Dataset.zip\")\n",
    "files.extractall()\n",
    "files.close()"
   ]
  },
  {
   "cell_type": "code",
   "execution_count": 7,
   "id": "39b42e40",
   "metadata": {},
   "outputs": [],
   "source": [
    "import glob\n",
    "import zipfile"
   ]
  },
  {
   "cell_type": "code",
   "execution_count": 8,
   "id": "034eace9",
   "metadata": {},
   "outputs": [],
   "source": [
    "files = glob.glob(\"C:\\project\\Flowers-Dataset.zip\")"
   ]
  },
  {
   "cell_type": "code",
   "execution_count": 9,
   "id": "7c32707a",
   "metadata": {},
   "outputs": [
    {
     "data": {
      "text/plain": [
       "['C:\\\\project\\\\Flowers-Dataset.zip']"
      ]
     },
     "execution_count": 9,
     "metadata": {},
     "output_type": "execute_result"
    }
   ],
   "source": [
    "files"
   ]
  },
  {
   "cell_type": "code",
   "execution_count": 10,
   "id": "f8b85377",
   "metadata": {},
   "outputs": [
    {
     "name": "stdout",
     "output_type": "stream",
     "text": [
      "Unzipping: C:\\project\\Flowers-Dataset.zip\n"
     ]
    }
   ],
   "source": [
    "for file in files:\n",
    "    print('Unzipping:',file)\n",
    "\n",
    "    with zipfile.ZipFile(file, 'r') as zip_ref:\n",
    "        zip_ref.extractall('data/raw')"
   ]
  },
  {
   "cell_type": "code",
   "execution_count": 11,
   "id": "814c17fb",
   "metadata": {},
   "outputs": [
    {
     "data": {
      "text/plain": [
       "'C:\\\\project\\\\Flowers-Dataset.zip'"
      ]
     },
     "execution_count": 11,
     "metadata": {},
     "output_type": "execute_result"
    }
   ],
   "source": [
    "file"
   ]
  },
  {
   "cell_type": "code",
   "execution_count": 12,
   "id": "9fc61b38",
   "metadata": {},
   "outputs": [],
   "source": [
    "from tensorflow.keras.preprocessing.image import ImageDataGenerator"
   ]
  },
  {
   "cell_type": "code",
   "execution_count": 13,
   "id": "78101bae",
   "metadata": {},
   "outputs": [],
   "source": [
    "train_datagen= ImageDataGenerator(rescale=1./255,zoom_range = 0.2,horizontal_flip =True,vertical_flip =False)"
   ]
  },
  {
   "cell_type": "code",
   "execution_count": 14,
   "id": "c6ff4eb5",
   "metadata": {},
   "outputs": [],
   "source": [
    "test_datagen = ImageDataGenerator(rescale=1./255)"
   ]
  },
  {
   "cell_type": "code",
   "execution_count": 17,
   "id": "4d8da2b3",
   "metadata": {},
   "outputs": [
    {
     "name": "stdout",
     "output_type": "stream",
     "text": [
      "Found 0 images belonging to 0 classes.\n"
     ]
    }
   ],
   "source": [
    "x_train = train = train_datagen.flow_from_directory(r'C:\\project\\data\\raw\\flowers\\tulip',target_size = (10,10),class_mode ='categorical',batch_size=10)"
   ]
  },
  {
   "cell_type": "code",
   "execution_count": 18,
   "id": "2e486420",
   "metadata": {},
   "outputs": [
    {
     "name": "stdout",
     "output_type": "stream",
     "text": [
      "Found 0 images belonging to 0 classes.\n"
     ]
    }
   ],
   "source": [
    "x_test = test_datagen.flow_from_directory(r'C:\\project\\data\\raw\\flowers\\rose',target_size = (1,5),class_mode ='categorical',batch_size=10)"
   ]
  },
  {
   "cell_type": "code",
   "execution_count": 19,
   "id": "888eb40c",
   "metadata": {},
   "outputs": [
    {
     "data": {
      "text/plain": [
       "{}"
      ]
     },
     "execution_count": 19,
     "metadata": {},
     "output_type": "execute_result"
    }
   ],
   "source": [
    "x_train.class_indices"
   ]
  },
  {
   "cell_type": "code",
   "execution_count": 20,
   "id": "0282270b",
   "metadata": {},
   "outputs": [],
   "source": [
    "from tensorflow.keras.models import Sequential"
   ]
  },
  {
   "cell_type": "code",
   "execution_count": 21,
   "id": "6a327f59",
   "metadata": {},
   "outputs": [],
   "source": [
    "from tensorflow.keras.layers import Dense,Convolution2D,MaxPooling2D,Flatten"
   ]
  },
  {
   "cell_type": "code",
   "execution_count": 22,
   "id": "a79b03ad",
   "metadata": {},
   "outputs": [],
   "source": [
    "model= Sequential()"
   ]
  },
  {
   "cell_type": "code",
   "execution_count": 23,
   "id": "f3e44ed3",
   "metadata": {},
   "outputs": [],
   "source": [
    "model.add(Convolution2D(32,(3,3),input_shape=(64,64,3),activation = 'relu')) "
   ]
  },
  {
   "cell_type": "code",
   "execution_count": 24,
   "id": "1cc951db",
   "metadata": {},
   "outputs": [],
   "source": [
    "model.add(MaxPooling2D(pool_size = (2,2)))"
   ]
  },
  {
   "cell_type": "code",
   "execution_count": 25,
   "id": "42201e4a",
   "metadata": {},
   "outputs": [],
   "source": [
    "model.add(Flatten())"
   ]
  },
  {
   "cell_type": "code",
   "execution_count": 26,
   "id": "a2c527ae",
   "metadata": {},
   "outputs": [
    {
     "name": "stdout",
     "output_type": "stream",
     "text": [
      "Model: \"sequential\"\n",
      "_________________________________________________________________\n",
      " Layer (type)                Output Shape              Param #   \n",
      "=================================================================\n",
      " conv2d (Conv2D)             (None, 62, 62, 32)        896       \n",
      "                                                                 \n",
      " max_pooling2d (MaxPooling2D  (None, 31, 31, 32)       0         \n",
      " )                                                               \n",
      "                                                                 \n",
      " flatten (Flatten)           (None, 30752)             0         \n",
      "                                                                 \n",
      "=================================================================\n",
      "Total params: 896\n",
      "Trainable params: 896\n",
      "Non-trainable params: 0\n",
      "_________________________________________________________________\n"
     ]
    }
   ],
   "source": [
    "model.summary()"
   ]
  },
  {
   "cell_type": "code",
   "execution_count": 27,
   "id": "d86de720",
   "metadata": {},
   "outputs": [
    {
     "data": {
      "text/plain": [
       "896"
      ]
     },
     "execution_count": 27,
     "metadata": {},
     "output_type": "execute_result"
    }
   ],
   "source": [
    "32*(3*3*3+1)"
   ]
  },
  {
   "cell_type": "code",
   "execution_count": 28,
   "id": "28653951",
   "metadata": {},
   "outputs": [],
   "source": [
    "model.add(Dense(300, activation = 'relu'))\n",
    "model.add(Dense(150,activation ='relu'))"
   ]
  },
  {
   "cell_type": "code",
   "execution_count": 29,
   "id": "894457e8",
   "metadata": {},
   "outputs": [],
   "source": [
    "model.add(Dense(4,activation='softmax'))"
   ]
  },
  {
   "cell_type": "code",
   "execution_count": 30,
   "id": "77835a75",
   "metadata": {},
   "outputs": [],
   "source": [
    "model.compile(loss='categorical_crossentropy', optimizer='adam',metrics=['accuracy'])"
   ]
  },
  {
   "cell_type": "code",
   "execution_count": 31,
   "id": "b0b1a508",
   "metadata": {},
   "outputs": [
    {
     "data": {
      "text/plain": [
       "0"
      ]
     },
     "execution_count": 31,
     "metadata": {},
     "output_type": "execute_result"
    }
   ],
   "source": [
    "len(x_train)"
   ]
  },
  {
   "cell_type": "code",
   "execution_count": 32,
   "id": "c7c89e00",
   "metadata": {},
   "outputs": [
    {
     "data": {
      "text/plain": [
       "0"
      ]
     },
     "execution_count": 32,
     "metadata": {},
     "output_type": "execute_result"
    }
   ],
   "source": [
    "len(x_test)"
   ]
  },
  {
   "cell_type": "code",
   "execution_count": 33,
   "id": "ef90d596",
   "metadata": {},
   "outputs": [],
   "source": [
    "model.save('flower.h5')\n"
   ]
  },
  {
   "cell_type": "code",
   "execution_count": 34,
   "id": "aa183051",
   "metadata": {},
   "outputs": [],
   "source": [
    "import numpy as np\n",
    "from tensorflow.keras.models import load_model\n",
    "from tensorflow.keras.preprocessing import image"
   ]
  },
  {
   "cell_type": "code",
   "execution_count": 35,
   "id": "d26ce61f",
   "metadata": {},
   "outputs": [],
   "source": [
    "odel = load_model('flower.h5')"
   ]
  },
  {
   "cell_type": "code",
   "execution_count": 37,
   "id": "81225085",
   "metadata": {},
   "outputs": [],
   "source": [
    "img = image.load_img(r\"C:\\project\\data\\raw\\flowers\\tulip\\15976769174_1d50f46ca1_m.jpg\")"
   ]
  },
  {
   "cell_type": "code",
   "execution_count": 38,
   "id": "18a6ad46",
   "metadata": {},
   "outputs": [
    {
     "data": {
      "image/png": "[encoded data removed]",
      "text/plain": [
       "<PIL.JpegImagePlugin.JpegImageFile image mode=RGB size=240x159 at 0x20BEC395910>"
      ]
     },
     "execution_count": 38,
     "metadata": {},
     "output_type": "execute_result"
    }
   ],
   "source": [
    "img"
   ]
  },
  {
   "cell_type": "code",
   "execution_count": 39,
   "id": "deeddd0f",
   "metadata": {},
   "outputs": [],
   "source": [
    "img = image.load_img(r\"C:\\project\\data\\raw\\flowers\\tulip\\15976769174_1d50f46ca1_m.jpg\",target_size=(64,64))"
   ]
  },
  {
   "cell_type": "code",
   "execution_count": 40,
   "id": "564b4282",
   "metadata": {},
   "outputs": [
    {
     "data": {
      "image/png": "[encoded data removed]",
      "text/plain": [
       "<PIL.Image.Image image mode=RGB size=64x64 at 0x20B80034640>"
      ]
     },
     "execution_count": 40,
     "metadata": {},
     "output_type": "execute_result"
    }
   ],
   "source": [
    "img"
   ]
  },
  {
   "cell_type": "code",
   "execution_count": 41,
   "id": "bbff452a",
   "metadata": {},
   "outputs": [],
   "source": [
    "x=image.img_to_array(img)"
   ]
  },
  {
   "cell_type": "code",
   "execution_count": 42,
   "id": "640a8d57",
   "metadata": {},
   "outputs": [
    {
     "data": {
      "text/plain": [
       "array([[[ 0.,  0.,  0.],\n",
       "        [ 2.,  2.,  4.],\n",
       "        [ 2.,  1.,  6.],\n",
       "        ...,\n",
       "        [18., 41., 21.],\n",
       "        [13., 27., 10.],\n",
       "        [10., 21.,  7.]],\n",
       "\n",
       "       [[ 2.,  2.,  2.],\n",
       "        [ 1.,  0.,  4.],\n",
       "        [ 3.,  2.,  7.],\n",
       "        ...,\n",
       "        [15., 36., 19.],\n",
       "        [11., 25.,  8.],\n",
       "        [ 9., 20.,  6.]],\n",
       "\n",
       "       [[16., 29., 20.],\n",
       "        [ 1.,  0.,  6.],\n",
       "        [ 5.,  3., 14.],\n",
       "        ...,\n",
       "        [13., 29., 16.],\n",
       "        [ 8., 22.,  9.],\n",
       "        [ 7., 17.,  8.]],\n",
       "\n",
       "       ...,\n",
       "\n",
       "       [[19., 29., 31.],\n",
       "        [ 0.,  3.,  0.],\n",
       "        [ 3., 10.,  3.],\n",
       "        ...,\n",
       "        [44., 78., 77.],\n",
       "        [41., 73., 70.],\n",
       "        [23., 52., 47.]],\n",
       "\n",
       "       [[12., 23., 25.],\n",
       "        [ 0.,  1.,  0.],\n",
       "        [ 1.,  7.,  3.],\n",
       "        ...,\n",
       "        [38., 70., 65.],\n",
       "        [39., 71., 68.],\n",
       "        [19., 46., 41.]],\n",
       "\n",
       "       [[11., 19., 22.],\n",
       "        [ 0.,  1.,  2.],\n",
       "        [ 1.,  5.,  4.],\n",
       "        ...,\n",
       "        [37., 72., 68.],\n",
       "        [32., 64., 61.],\n",
       "        [21., 43., 40.]]], dtype=float32)"
      ]
     },
     "execution_count": 42,
     "metadata": {},
     "output_type": "execute_result"
    }
   ],
   "source": [
    "x"
   ]
  },
  {
   "cell_type": "code",
   "execution_count": 43,
   "id": "a450c572",
   "metadata": {},
   "outputs": [
    {
     "data": {
      "text/plain": [
       "(64, 64, 3)"
      ]
     },
     "execution_count": 43,
     "metadata": {},
     "output_type": "execute_result"
    }
   ],
   "source": [
    "x.shape"
   ]
  },
  {
   "cell_type": "code",
   "execution_count": 44,
   "id": "90c6e0dd",
   "metadata": {},
   "outputs": [],
   "source": [
    "x=np.expand_dims(x,axis=0)"
   ]
  },
  {
   "cell_type": "code",
   "execution_count": 45,
   "id": "a92e2d97",
   "metadata": {},
   "outputs": [
    {
     "name": "stdout",
     "output_type": "stream",
     "text": [
      "1/1 [==============================] - 0s 385ms/step\n"
     ]
    }
   ],
   "source": [
    "y=np.argmax(model.predict(x),axis=1)"
   ]
  },
  {
   "cell_type": "code",
   "execution_count": 46,
   "id": "f2cce166",
   "metadata": {},
   "outputs": [
    {
     "data": {
      "text/plain": [
       "array([2], dtype=int64)"
      ]
     },
     "execution_count": 46,
     "metadata": {},
     "output_type": "execute_result"
    }
   ],
   "source": [
    "y"
   ]
  },
  {
   "cell_type": "code",
   "execution_count": 47,
   "id": "96fb7f3f",
   "metadata": {},
   "outputs": [
    {
     "data": {
      "text/plain": [
       "{}"
      ]
     },
     "execution_count": 47,
     "metadata": {},
     "output_type": "execute_result"
    }
   ],
   "source": [
    "x_train.class_indices"
   ]
  },
  {
   "cell_type": "code",
   "execution_count": 49,
   "id": "5deee187",
   "metadata": {},
   "outputs": [],
   "source": [
    "index = ['daisy','dandelion','rose','sunflower','tulip']"
   ]
  },
  {
   "cell_type": "code",
   "execution_count": 60,
   "id": "d7c07074",
   "metadata": {},
   "outputs": [
    {
     "data": {
      "text/plain": [
       "'rose'"
      ]
     },
     "execution_count": 60,
     "metadata": {},
     "output_type": "execute_result"
    }
   ],
   "source": [
    "index[y[-1]]"
   ]
  },
  {
   "cell_type": "code",
   "execution_count": 61,
   "id": "58e52e77",
   "metadata": {},
   "outputs": [
    {
     "data": {
      "text/plain": [
       "'tulip'"
      ]
     },
     "execution_count": 61,
     "metadata": {},
     "output_type": "execute_result"
    }
   ],
   "source": [
    "index[4]"
   ]
  },
  {
   "cell_type": "code",
   "execution_count": null,
   "id": "2ba87fae",
   "metadata": {},
   "outputs": [],
   "source": []
  }
 ],
 "metadata": {
  "kernelspec": {
   "display_name": "Python 3 (ipykernel)",
   "language": "python",
   "name": "python3"
  },
  "language_info": {
   "codemirror_mode": {
    "name": "ipython",
    "version": 3
   },
   "file_extension": ".py",
   "mimetype": "text/x-python",
   "name": "python",
   "nbconvert_exporter": "python",
   "pygments_lexer": "ipython3",
   "version": "3.9.12"
  }
 },
 "nbformat": 4,
 "nbformat_minor": 5
}
